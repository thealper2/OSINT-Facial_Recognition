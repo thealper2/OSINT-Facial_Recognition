{
 "cells": [
  {
   "cell_type": "markdown",
   "id": "31ae0e99",
   "metadata": {},
   "source": [
    "# OSINT Facial Recognition"
   ]
  },
  {
   "cell_type": "code",
   "execution_count": 1,
   "id": "59605493",
   "metadata": {},
   "outputs": [],
   "source": [
    "import cv2\n",
    "from face_recognition import load_image_file\n",
    "from face_recognition import face_encodings\n",
    "from face_recognition import compare_faces\n",
    "from face_recognition import face_locations"
   ]
  },
  {
   "cell_type": "code",
   "execution_count": 2,
   "id": "d2b40a48",
   "metadata": {},
   "outputs": [],
   "source": [
    "arda_path = \"arda.jpeg\"\n",
    "gates_and_arda_path = \"gates_arda.jpg\""
   ]
  },
  {
   "cell_type": "code",
   "execution_count": 3,
   "id": "f801a906",
   "metadata": {},
   "outputs": [],
   "source": [
    "target_image = load_image_file(arda_path)\n",
    "search_image = load_image_file(gates_and_arda_path)"
   ]
  },
  {
   "cell_type": "code",
   "execution_count": 4,
   "id": "07c8cef4",
   "metadata": {},
   "outputs": [
    {
     "data": {
      "text/plain": [
       "numpy.ndarray"
      ]
     },
     "execution_count": 4,
     "metadata": {},
     "output_type": "execute_result"
    }
   ],
   "source": [
    "type(target_image)"
   ]
  },
  {
   "cell_type": "code",
   "execution_count": 5,
   "id": "05481a90",
   "metadata": {},
   "outputs": [],
   "source": [
    "target_encoding = face_encodings(target_image)[0]\n",
    "all_faces_encoding = face_encodings(search_image)"
   ]
  },
  {
   "cell_type": "code",
   "execution_count": 6,
   "id": "8a043663",
   "metadata": {},
   "outputs": [
    {
     "name": "stdout",
     "output_type": "stream",
     "text": [
      "[True, False]\n"
     ]
    }
   ],
   "source": [
    "matches = compare_faces(all_faces_encoding, target_encoding)\n",
    "print(matches)"
   ]
  },
  {
   "cell_type": "code",
   "execution_count": 7,
   "id": "d772f139",
   "metadata": {},
   "outputs": [],
   "source": [
    "all_face_locations = face_locations(search_image)"
   ]
  },
  {
   "cell_type": "code",
   "execution_count": 8,
   "id": "8c076891",
   "metadata": {},
   "outputs": [],
   "source": [
    "search_image_cv2 = cv2.imread(gates_and_arda_path)"
   ]
  },
  {
   "cell_type": "code",
   "execution_count": 49,
   "id": "13cafece",
   "metadata": {},
   "outputs": [],
   "source": [
    "true_index = None\n",
    "\n",
    "for i in range(len(all_face_locations)):\n",
    "    if matches[i] == True:\n",
    "        true_index = i\n",
    "\n",
    "if true_index != None:\n",
    "    (top, right, bottom, left) = all_face_locations[true_index]\n",
    "    cv2.rectangle(search_image_cv2, (left, top), (right, bottom), (0, 255, 0), 2)\n",
    "    cv2.putText(search_image_cv2, \"Target\", (left+6, bottom-6), cv2.FONT_HERSHEY_DUPLEX, 1.0, (255, 255, 255), 1)\n",
    "\n",
    "    cv2.namedWindow(\"image\", cv2.WINDOW_NORMAL)\n",
    "    cv2.imshow(\"image\", search_image_cv2)\n",
    "    cv2.waitKey(0)\n",
    "    cv2.destroyAllWindows()\n",
    "    \n",
    "else:\n",
    "    print(\"Target not found.\")"
   ]
  },
  {
   "cell_type": "code",
   "execution_count": 9,
   "id": "5e44142d",
   "metadata": {},
   "outputs": [],
   "source": [
    "# Her yüz için bir dikdörtgen çiz\n",
    "i = 0\n",
    "for (top, right, bottom, left) in all_face_locations:\n",
    "    cv2.rectangle(search_image_cv2, (left, top), (right, bottom), (0, 255, 0), 2)\n",
    "    cv2.putText(search_image_cv2, \"Target \" + str(i), (left+6, bottom-6), cv2.FONT_HERSHEY_DUPLEX, 1.0, (255, 255, 255), 1)\n",
    "    i += 1\n",
    "    \n",
    "# Sonuçları göster\n",
    "cv2.namedWindow(\"image\", cv2.WINDOW_NORMAL)\n",
    "cv2.imshow(\"Faces Found\", search_image_cv2)\n",
    "cv2.waitKey(0)\n",
    "cv2.destroyAllWindows()"
   ]
  },
  {
   "cell_type": "code",
   "execution_count": null,
   "id": "fbd9d319",
   "metadata": {},
   "outputs": [],
   "source": []
  }
 ],
 "metadata": {
  "kernelspec": {
   "display_name": "Python 3 (ipykernel)",
   "language": "python",
   "name": "python3"
  },
  "language_info": {
   "codemirror_mode": {
    "name": "ipython",
    "version": 3
   },
   "file_extension": ".py",
   "mimetype": "text/x-python",
   "name": "python",
   "nbconvert_exporter": "python",
   "pygments_lexer": "ipython3",
   "version": "3.11.2"
  }
 },
 "nbformat": 4,
 "nbformat_minor": 5
}
